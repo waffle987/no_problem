{
 "cells": [
  {
   "cell_type": "code",
   "execution_count": 1,
   "id": "5dbdd04c",
   "metadata": {},
   "outputs": [],
   "source": [
    "import tensorflow as tf\n",
    "from tensorflow import keras\n",
    "import pandas as pd\n",
    "import numpy as np\n",
    "\n",
    "from tensorflow.keras.preprocessing.text import Tokenizer\n",
    "from tensorflow.keras.preprocessing.sequence import pad_sequences"
   ]
  },
  {
   "cell_type": "code",
   "execution_count": 2,
   "id": "b0ca620d",
   "metadata": {},
   "outputs": [
    {
     "name": "stdout",
     "output_type": "stream",
     "text": [
      "<class 'pandas.core.frame.DataFrame'>\n",
      "RangeIndex: 150 entries, 0 to 149\n",
      "Data columns (total 2 columns):\n",
      " #   Column  Non-Null Count  Dtype \n",
      "---  ------  --------------  ----- \n",
      " 0   label   150 non-null    int64 \n",
      " 1   text    150 non-null    object\n",
      "dtypes: int64(1), object(1)\n",
      "memory usage: 2.5+ KB\n"
     ]
    }
   ],
   "source": [
    "data = pd.read_csv('All Datasets - Final Mediation.csv')\n",
    "data.head()\n",
    "data.info()"
   ]
  },
  {
   "cell_type": "code",
   "execution_count": 3,
   "id": "4dcfdff1",
   "metadata": {},
   "outputs": [],
   "source": [
    "# text = data['text']\n",
    "# label = data['label']"
   ]
  },
  {
   "cell_type": "code",
   "execution_count": 3,
   "id": "4b6ba6b7",
   "metadata": {},
   "outputs": [],
   "source": [
    "tokenizer = Tokenizer(num_words = 100, oov_token=\"<OOV>\")"
   ]
  },
  {
   "cell_type": "code",
   "execution_count": 4,
   "id": "98bbaafa",
   "metadata": {},
   "outputs": [],
   "source": [
    "train_text = data['text'].sample(frac=1)\n",
    "list_train = list(train_text.index)\n",
    "train_label = data.iloc[list_train]['label']"
   ]
  },
  {
   "cell_type": "code",
   "execution_count": 5,
   "id": "b248722d",
   "metadata": {},
   "outputs": [],
   "source": [
    "test_text= data['text'].sample(frac=1)\n",
    "list_test = list(test_text.index)\n",
    "test_label = data.iloc[list_test]['label']"
   ]
  },
  {
   "cell_type": "code",
   "execution_count": 6,
   "id": "b51d9657",
   "metadata": {},
   "outputs": [],
   "source": [
    "training_sentences = []\n",
    "training_labels = []\n",
    "testing_sentences = []\n",
    "testing_labels = []\n",
    "\n",
    "for row in train_text:\n",
    "    training_sentences.append(str(row))\n",
    "for row in train_label:\n",
    "    training_labels.append(row)\n",
    "for row in test_text:\n",
    "    testing_sentences.append(str(row))\n",
    "for row in test_label:\n",
    "    testing_labels.append(row)"
   ]
  },
  {
   "cell_type": "code",
   "execution_count": 7,
   "id": "5081805b",
   "metadata": {},
   "outputs": [],
   "source": [
    "vocab_size = 40000\n",
    "embedding_dim = 16\n",
    "max_length = 120\n",
    "trunc_type = 'post'\n",
    "oov_tok = '<OOV>'\n",
    "padding_type = 'post'\n",
    "\n",
    "tokenizer = Tokenizer(num_words = 100, oov_token=\"<OOV>\")\n",
    "tokenizer = Tokenizer(num_words=vocab_size, oov_token=oov_tok)\n",
    "tokenizer.fit_on_texts(training_sentences)\n",
    "word_index = tokenizer.word_index"
   ]
  },
  {
   "cell_type": "code",
   "execution_count": 8,
   "id": "31950a02",
   "metadata": {},
   "outputs": [],
   "source": [
    "sequences = tokenizer.texts_to_sequences(training_sentences)\n",
    "padded = pad_sequences(sequences, maxlen = max_length, truncating = trunc_type)\n",
    "\n",
    "testing_sentences = tokenizer.texts_to_sequences(testing_sentences)\n",
    "testing_padded = pad_sequences(testing_sentences, maxlen=max_length)"
   ]
  },
  {
   "cell_type": "code",
   "execution_count": 20,
   "id": "a1aff89d",
   "metadata": {},
   "outputs": [],
   "source": [
    "from tensorflow.keras.layers import Dense\n",
    "from tensorflow.keras.optimizers import Adam \n",
    "\n",
    "model = tf.keras.Sequential([\n",
    "    tf.keras.layers.Embedding(vocab_size, embedding_dim, input_length=max_length),\n",
    "    tf.keras.layers.Conv1D(128, 5, activation='relu'),\n",
    "    tf.keras.layers.GlobalAveragePooling1D(),\n",
    "    tf.keras.layers.Dense(units=512, activation='relu', name='dense_new'),\n",
    "    tf.keras.layers.Dense(24, activation='relu'),\n",
    "    tf.keras.layers.Dense(1, activation='sigmoid'),\n",
    "    tf.keras.layers.Dropout(0.2),\n",
    "    tf.keras.layers.Dense(10, activation='softmax')\n",
    "])\n"
   ]
  },
  {
   "cell_type": "code",
   "execution_count": 21,
   "id": "d13fd9dc",
   "metadata": {},
   "outputs": [],
   "source": [
    "model.compile(optimizer=keras.optimizers.Adam(learning_rate=0.001),\n",
    "               loss=keras.losses.SparseCategoricalCrossentropy(),\n",
    "               metrics=['accuracy'])"
   ]
  },
  {
   "cell_type": "code",
   "execution_count": 11,
   "id": "cd05910c",
   "metadata": {},
   "outputs": [
    {
     "name": "stdout",
     "output_type": "stream",
     "text": [
      "Model: \"sequential\"\n",
      "_________________________________________________________________\n",
      " Layer (type)                Output Shape              Param #   \n",
      "=================================================================\n",
      " embedding (Embedding)       (None, 120, 16)           640000    \n",
      "                                                                 \n",
      " conv1d (Conv1D)             (None, 116, 128)          10368     \n",
      "                                                                 \n",
      " global_average_pooling1d (G  (None, 128)              0         \n",
      " lobalAveragePooling1D)                                          \n",
      "                                                                 \n",
      " dense_new (Dense)           (None, 512)               66048     \n",
      "                                                                 \n",
      " dense (Dense)               (None, 24)                12312     \n",
      "                                                                 \n",
      " dense_1 (Dense)             (None, 1)                 25        \n",
      "                                                                 \n",
      " dropout (Dropout)           (None, 1)                 0         \n",
      "                                                                 \n",
      " dense_2 (Dense)             (None, 10)                20        \n",
      "                                                                 \n",
      "=================================================================\n",
      "Total params: 728,773\n",
      "Trainable params: 728,773\n",
      "Non-trainable params: 0\n",
      "_________________________________________________________________\n"
     ]
    }
   ],
   "source": [
    "model.summary()"
   ]
  },
  {
   "cell_type": "code",
   "execution_count": 12,
   "id": "241df035",
   "metadata": {},
   "outputs": [],
   "source": [
    "training_labels_final = np.array(training_labels)\n",
    "testing_labels_final = np.array(testing_labels)"
   ]
  },
  {
   "cell_type": "code",
   "execution_count": 25,
   "id": "a1a03a9b",
   "metadata": {},
   "outputs": [
    {
     "name": "stdout",
     "output_type": "stream",
     "text": [
      "Epoch 1/60\n",
      "5/5 [==============================] - 0s 24ms/step - loss: 1.3285 - accuracy: 0.6133 - val_loss: 1.3121 - val_accuracy: 0.6667\n",
      "Epoch 2/60\n",
      "5/5 [==============================] - 0s 21ms/step - loss: 1.3157 - accuracy: 0.6200 - val_loss: 1.3082 - val_accuracy: 0.6667\n",
      "Epoch 3/60\n",
      "5/5 [==============================] - 0s 21ms/step - loss: 1.3394 - accuracy: 0.6000 - val_loss: 1.3043 - val_accuracy: 0.6667\n",
      "Epoch 4/60\n",
      "5/5 [==============================] - 0s 19ms/step - loss: 1.3175 - accuracy: 0.6133 - val_loss: 1.3005 - val_accuracy: 0.6667\n",
      "Epoch 5/60\n",
      "5/5 [==============================] - 0s 20ms/step - loss: 1.3231 - accuracy: 0.6067 - val_loss: 1.2967 - val_accuracy: 0.6667\n",
      "Epoch 6/60\n",
      "5/5 [==============================] - 0s 14ms/step - loss: 1.3286 - accuracy: 0.6000 - val_loss: 1.2929 - val_accuracy: 0.6667\n",
      "Epoch 7/60\n",
      "5/5 [==============================] - 0s 11ms/step - loss: 1.3618 - accuracy: 0.5733 - val_loss: 1.2892 - val_accuracy: 0.6667\n",
      "Epoch 8/60\n",
      "5/5 [==============================] - 0s 12ms/step - loss: 1.3308 - accuracy: 0.5933 - val_loss: 1.2855 - val_accuracy: 0.6667\n",
      "Epoch 9/60\n",
      "5/5 [==============================] - 0s 10ms/step - loss: 1.2905 - accuracy: 0.6200 - val_loss: 1.2817 - val_accuracy: 0.6667\n",
      "Epoch 10/60\n",
      "5/5 [==============================] - 0s 11ms/step - loss: 1.3331 - accuracy: 0.5867 - val_loss: 1.2781 - val_accuracy: 0.6667\n",
      "Epoch 11/60\n",
      "5/5 [==============================] - 0s 11ms/step - loss: 1.2927 - accuracy: 0.6133 - val_loss: 1.2744 - val_accuracy: 0.6667\n",
      "Epoch 12/60\n",
      "5/5 [==============================] - 0s 11ms/step - loss: 1.2800 - accuracy: 0.5533 - val_loss: 1.2708 - val_accuracy: 0.6667\n",
      "Epoch 13/60\n",
      "5/5 [==============================] - 0s 12ms/step - loss: 1.3043 - accuracy: 0.6000 - val_loss: 1.2671 - val_accuracy: 0.6667\n",
      "Epoch 14/60\n",
      "5/5 [==============================] - 0s 12ms/step - loss: 1.3009 - accuracy: 0.6000 - val_loss: 1.2635 - val_accuracy: 0.6667\n",
      "Epoch 15/60\n",
      "5/5 [==============================] - 0s 12ms/step - loss: 1.2883 - accuracy: 0.6067 - val_loss: 1.2600 - val_accuracy: 0.6667\n",
      "Epoch 16/60\n",
      "5/5 [==============================] - 0s 13ms/step - loss: 1.2849 - accuracy: 0.6067 - val_loss: 1.2564 - val_accuracy: 0.6667\n",
      "Epoch 17/60\n",
      "5/5 [==============================] - 0s 12ms/step - loss: 1.3002 - accuracy: 0.5933 - val_loss: 1.2529 - val_accuracy: 0.6667\n",
      "Epoch 18/60\n",
      "5/5 [==============================] - 0s 11ms/step - loss: 1.2970 - accuracy: 0.5933 - val_loss: 1.2494 - val_accuracy: 0.6667\n",
      "Epoch 19/60\n",
      "5/5 [==============================] - 0s 12ms/step - loss: 1.2657 - accuracy: 0.6133 - val_loss: 1.2459 - val_accuracy: 0.6667\n",
      "Epoch 20/60\n",
      "5/5 [==============================] - 0s 12ms/step - loss: 1.2717 - accuracy: 0.6067 - val_loss: 1.2424 - val_accuracy: 0.6667\n",
      "Epoch 21/60\n",
      "5/5 [==============================] - 0s 11ms/step - loss: 1.2498 - accuracy: 0.6200 - val_loss: 1.2390 - val_accuracy: 0.6667\n",
      "Epoch 22/60\n",
      "5/5 [==============================] - 0s 11ms/step - loss: 1.2652 - accuracy: 0.6067 - val_loss: 1.2355 - val_accuracy: 0.6667\n",
      "Epoch 23/60\n",
      "5/5 [==============================] - 0s 11ms/step - loss: 1.2433 - accuracy: 0.6200 - val_loss: 1.2321 - val_accuracy: 0.6667\n",
      "Epoch 24/60\n",
      "5/5 [==============================] - 0s 12ms/step - loss: 1.2776 - accuracy: 0.5933 - val_loss: 1.2287 - val_accuracy: 0.6667\n",
      "Epoch 25/60\n",
      "5/5 [==============================] - 0s 11ms/step - loss: 1.2651 - accuracy: 0.6000 - val_loss: 1.2254 - val_accuracy: 0.6667\n",
      "Epoch 26/60\n",
      "5/5 [==============================] - 0s 12ms/step - loss: 1.2808 - accuracy: 0.5867 - val_loss: 1.2220 - val_accuracy: 0.6667\n",
      "Epoch 27/60\n",
      "5/5 [==============================] - 0s 12ms/step - loss: 1.2400 - accuracy: 0.6133 - val_loss: 1.2187 - val_accuracy: 0.6667\n",
      "Epoch 28/60\n",
      "5/5 [==============================] - 0s 12ms/step - loss: 1.2747 - accuracy: 0.5867 - val_loss: 1.2154 - val_accuracy: 0.6667\n",
      "Epoch 29/60\n",
      "5/5 [==============================] - 0s 12ms/step - loss: 1.2053 - accuracy: 0.6333 - val_loss: 1.2122 - val_accuracy: 0.6667\n",
      "Epoch 30/60\n",
      "5/5 [==============================] - 0s 11ms/step - loss: 1.2212 - accuracy: 0.6200 - val_loss: 1.2089 - val_accuracy: 0.6667\n",
      "Epoch 31/60\n",
      "5/5 [==============================] - 0s 11ms/step - loss: 1.2466 - accuracy: 0.6000 - val_loss: 1.2056 - val_accuracy: 0.6667\n",
      "Epoch 32/60\n",
      "5/5 [==============================] - 0s 12ms/step - loss: 1.2340 - accuracy: 0.6067 - val_loss: 1.2024 - val_accuracy: 0.6667\n",
      "Epoch 33/60\n",
      "5/5 [==============================] - 0s 11ms/step - loss: 1.2215 - accuracy: 0.6133 - val_loss: 1.1992 - val_accuracy: 0.6667\n",
      "Epoch 34/60\n",
      "5/5 [==============================] - 0s 11ms/step - loss: 1.2185 - accuracy: 0.6133 - val_loss: 1.1960 - val_accuracy: 0.6667\n",
      "Epoch 35/60\n",
      "5/5 [==============================] - 0s 12ms/step - loss: 1.2728 - accuracy: 0.5733 - val_loss: 1.1929 - val_accuracy: 0.6667\n",
      "Epoch 36/60\n",
      "5/5 [==============================] - 0s 11ms/step - loss: 1.2126 - accuracy: 0.6133 - val_loss: 1.1897 - val_accuracy: 0.6667\n",
      "Epoch 37/60\n",
      "5/5 [==============================] - 0s 11ms/step - loss: 1.2479 - accuracy: 0.5867 - val_loss: 1.1867 - val_accuracy: 0.6667\n",
      "Epoch 38/60\n",
      "5/5 [==============================] - 0s 12ms/step - loss: 1.1972 - accuracy: 0.6200 - val_loss: 1.1835 - val_accuracy: 0.6667\n",
      "Epoch 39/60\n",
      "5/5 [==============================] - 0s 11ms/step - loss: 1.2710 - accuracy: 0.5667 - val_loss: 1.1805 - val_accuracy: 0.6667\n",
      "Epoch 40/60\n",
      "5/5 [==============================] - 0s 12ms/step - loss: 1.2202 - accuracy: 0.6000 - val_loss: 1.1774 - val_accuracy: 0.6667\n",
      "Epoch 41/60\n",
      "5/5 [==============================] - 0s 11ms/step - loss: 1.1789 - accuracy: 0.6267 - val_loss: 1.1744 - val_accuracy: 0.6667\n",
      "Epoch 42/60\n",
      "5/5 [==============================] - 0s 11ms/step - loss: 1.2146 - accuracy: 0.6000 - val_loss: 1.1714 - val_accuracy: 0.6667\n",
      "Epoch 43/60\n",
      "5/5 [==============================] - 0s 11ms/step - loss: 1.2021 - accuracy: 0.6067 - val_loss: 1.1684 - val_accuracy: 0.6667\n",
      "Epoch 44/60\n",
      "5/5 [==============================] - 0s 13ms/step - loss: 1.1800 - accuracy: 0.6200 - val_loss: 1.1654 - val_accuracy: 0.6667\n",
      "Epoch 45/60\n",
      "5/5 [==============================] - 0s 11ms/step - loss: 1.2062 - accuracy: 0.6000 - val_loss: 1.1624 - val_accuracy: 0.6667\n",
      "Epoch 46/60\n",
      "5/5 [==============================] - 0s 12ms/step - loss: 1.1744 - accuracy: 0.6200 - val_loss: 1.1594 - val_accuracy: 0.6667\n",
      "Epoch 47/60\n",
      "5/5 [==============================] - 0s 11ms/step - loss: 1.2007 - accuracy: 0.6000 - val_loss: 1.1564 - val_accuracy: 0.6667\n",
      "Epoch 48/60\n",
      "5/5 [==============================] - 0s 11ms/step - loss: 1.1883 - accuracy: 0.6067 - val_loss: 1.1535 - val_accuracy: 0.6667\n",
      "Epoch 49/60\n",
      "5/5 [==============================] - 0s 11ms/step - loss: 1.2244 - accuracy: 0.5800 - val_loss: 1.1506 - val_accuracy: 0.6667\n",
      "Epoch 50/60\n",
      "5/5 [==============================] - 0s 11ms/step - loss: 1.1926 - accuracy: 0.6000 - val_loss: 1.1477 - val_accuracy: 0.6667\n",
      "Epoch 51/60\n",
      "5/5 [==============================] - 0s 11ms/step - loss: 1.1704 - accuracy: 0.6133 - val_loss: 1.1449 - val_accuracy: 0.6667\n",
      "Epoch 52/60\n",
      "5/5 [==============================] - 0s 11ms/step - loss: 1.2262 - accuracy: 0.5733 - val_loss: 1.1420 - val_accuracy: 0.6667\n",
      "Epoch 53/60\n",
      "5/5 [==============================] - 0s 11ms/step - loss: 1.1651 - accuracy: 0.6133 - val_loss: 1.1392 - val_accuracy: 0.6667\n",
      "Epoch 54/60\n",
      "5/5 [==============================] - 0s 11ms/step - loss: 1.1820 - accuracy: 0.6000 - val_loss: 1.1364 - val_accuracy: 0.6667\n",
      "Epoch 55/60\n",
      "5/5 [==============================] - 0s 11ms/step - loss: 1.1598 - accuracy: 0.6133 - val_loss: 1.1335 - val_accuracy: 0.6667\n",
      "Epoch 56/60\n",
      "5/5 [==============================] - 0s 11ms/step - loss: 1.2160 - accuracy: 0.5733 - val_loss: 1.1308 - val_accuracy: 0.6667\n",
      "Epoch 57/60\n",
      "5/5 [==============================] - 0s 11ms/step - loss: 1.1546 - accuracy: 0.6133 - val_loss: 1.1280 - val_accuracy: 0.6667\n",
      "Epoch 58/60\n",
      "5/5 [==============================] - 0s 12ms/step - loss: 1.1520 - accuracy: 0.6133 - val_loss: 1.1252 - val_accuracy: 0.6667\n",
      "Epoch 59/60\n"
     ]
    },
    {
     "name": "stdout",
     "output_type": "stream",
     "text": [
      "5/5 [==============================] - 0s 12ms/step - loss: 1.1593 - accuracy: 0.6067 - val_loss: 1.1225 - val_accuracy: 0.6667\n",
      "Epoch 60/60\n",
      "5/5 [==============================] - 0s 11ms/step - loss: 1.1469 - accuracy: 0.6133 - val_loss: 1.1197 - val_accuracy: 0.6667\n"
     ]
    }
   ],
   "source": [
    "num_epochs = 60\n",
    "history = model.fit(padded, training_labels_final, epochs=num_epochs, validation_data=(testing_padded, testing_labels_final))\n"
   ]
  },
  {
   "cell_type": "code",
   "execution_count": 26,
   "id": "4e186960",
   "metadata": {},
   "outputs": [
    {
     "name": "stdout",
     "output_type": "stream",
     "text": [
      "0.6030000060796737\n"
     ]
    }
   ],
   "source": [
    "# average accuracy of model\n",
    "accuracy = history.history['accuracy']\n",
    "average_acc = sum(accuracy) / len(accuracy)\n",
    "print(average_acc)"
   ]
  },
  {
   "cell_type": "code",
   "execution_count": 27,
   "id": "e1a68ccd",
   "metadata": {},
   "outputs": [
    {
     "data": {
      "text/plain": [
       "<Figure size 432x288 with 0 Axes>"
      ]
     },
     "execution_count": 27,
     "metadata": {},
     "output_type": "execute_result"
    },
    {
     "data": {
      "image/png": "[encoded data removed]",
      "text/plain": [
       "<Figure size 432x288 with 1 Axes>"
      ]
     },
     "metadata": {
      "needs_background": "light"
     },
     "output_type": "display_data"
    },
    {
     "data": {
      "text/plain": [
       "<Figure size 432x288 with 0 Axes>"
      ]
     },
     "metadata": {},
     "output_type": "display_data"
    }
   ],
   "source": [
    "%matplotlib inline\n",
    "import matplotlib.pyplot as plt\n",
    "import matplotlib.image as mpimg\n",
    "acc = history.history['accuracy']\n",
    "val_acc = history.history['val_accuracy']\n",
    "loss = history.history['loss']\n",
    "val_loss = history.history['val_loss']\n",
    "epochs = range(len(acc))\n",
    "plt.plot(epochs, acc, 'r', 'Training Accuracy')\n",
    "plt.plot(epochs, val_acc, 'b', 'Validation Accuracy')\n",
    "plt.title('Training and validation accuracy')\n",
    "plt.figure()"
   ]
  },
  {
   "cell_type": "code",
   "execution_count": 28,
   "id": "6a015b5f",
   "metadata": {},
   "outputs": [
    {
     "data": {
      "text/plain": [
       "<Figure size 432x288 with 0 Axes>"
      ]
     },
     "execution_count": 28,
     "metadata": {},
     "output_type": "execute_result"
    },
    {
     "data": {
      "image/png": "[encoded data removed]",
      "text/plain": [
       "<Figure size 432x288 with 1 Axes>"
      ]
     },
     "metadata": {
      "needs_background": "light"
     },
     "output_type": "display_data"
    },
    {
     "data": {
      "text/plain": [
       "<Figure size 432x288 with 0 Axes>"
      ]
     },
     "metadata": {},
     "output_type": "display_data"
    }
   ],
   "source": [
    "plt.plot(epochs, loss, 'r', 'Training Loss')\n",
    "plt.plot(epochs, val_loss, 'b', 'Validation Loss')\n",
    "plt.title('Training and validation loss')\n",
    "plt.figure()"
   ]
  },
  {
   "cell_type": "code",
   "execution_count": 87,
   "id": "8f55c976",
   "metadata": {},
   "outputs": [
    {
     "name": "stdout",
     "output_type": "stream",
     "text": [
      "(150,)\n"
     ]
    }
   ],
   "source": [
    "seq_predictions = model.predict(testing_padded)   \n",
    "seq_predictions = np.transpose(seq_predictions)[0]  # transformation to get (n,)\n",
    "print(seq_predictions.shape)  # now the shape is (n,)\n",
    "# Applying transformation to get values of predictions \n",
    "seq_predictions = list(map(lambda x: 1 if x<=0.017775 else (2 if x < 0.05 else 3), seq_predictions))"
   ]
  },
  {
   "cell_type": "code",
   "execution_count": 86,
   "id": "d72d213d",
   "metadata": {},
   "outputs": [
    {
     "data": {
      "text/html": [
       "<div>\n",
       "<style scoped>\n",
       "    .dataframe tbody tr th:only-of-type {\n",
       "        vertical-align: middle;\n",
       "    }\n",
       "\n",
       "    .dataframe tbody tr th {\n",
       "        vertical-align: top;\n",
       "    }\n",
       "\n",
       "    .dataframe thead th {\n",
       "        text-align: right;\n",
       "    }\n",
       "</style>\n",
       "<table border=\"1\" class=\"dataframe\">\n",
       "  <thead>\n",
       "    <tr style=\"text-align: right;\">\n",
       "      <th></th>\n",
       "      <th>Testing_label</th>\n",
       "      <th>Predicted</th>\n",
       "    </tr>\n",
       "  </thead>\n",
       "  <tbody>\n",
       "    <tr>\n",
       "      <th>43</th>\n",
       "      <td>2</td>\n",
       "      <td>3</td>\n",
       "    </tr>\n",
       "    <tr>\n",
       "      <th>20</th>\n",
       "      <td>3</td>\n",
       "      <td>3</td>\n",
       "    </tr>\n",
       "    <tr>\n",
       "      <th>103</th>\n",
       "      <td>1</td>\n",
       "      <td>1</td>\n",
       "    </tr>\n",
       "    <tr>\n",
       "      <th>11</th>\n",
       "      <td>3</td>\n",
       "      <td>3</td>\n",
       "    </tr>\n",
       "    <tr>\n",
       "      <th>101</th>\n",
       "      <td>2</td>\n",
       "      <td>3</td>\n",
       "    </tr>\n",
       "    <tr>\n",
       "      <th>132</th>\n",
       "      <td>3</td>\n",
       "      <td>3</td>\n",
       "    </tr>\n",
       "    <tr>\n",
       "      <th>31</th>\n",
       "      <td>3</td>\n",
       "      <td>3</td>\n",
       "    </tr>\n",
       "    <tr>\n",
       "      <th>148</th>\n",
       "      <td>3</td>\n",
       "      <td>3</td>\n",
       "    </tr>\n",
       "    <tr>\n",
       "      <th>36</th>\n",
       "      <td>3</td>\n",
       "      <td>3</td>\n",
       "    </tr>\n",
       "    <tr>\n",
       "      <th>84</th>\n",
       "      <td>1</td>\n",
       "      <td>1</td>\n",
       "    </tr>\n",
       "  </tbody>\n",
       "</table>\n",
       "</div>"
      ],
      "text/plain": [
       "     Testing_label  Predicted\n",
       "43               2          3\n",
       "20               3          3\n",
       "103              1          1\n",
       "11               3          3\n",
       "101              2          3\n",
       "132              3          3\n",
       "31               3          3\n",
       "148              3          3\n",
       "36               3          3\n",
       "84               1          1"
      ]
     },
     "execution_count": 86,
     "metadata": {},
     "output_type": "execute_result"
    }
   ],
   "source": [
    "results = pd.DataFrame(list(testing_labels_final), columns = ['Testing_label'])\n",
    "results['Predicted'] = list(seq_predictions)\n",
    "results.sample(10)"
   ]
  },
  {
   "cell_type": "code",
   "execution_count": 84,
   "id": "9104e218",
   "metadata": {},
   "outputs": [
    {
     "name": "stdout",
     "output_type": "stream",
     "text": [
      "66.0\n"
     ]
    }
   ],
   "source": [
    "# get percentage of correct predicted category\n",
    "count = 0\n",
    "for i in range(150):\n",
    "    if results['Testing_label'].iloc[i] == results['Predicted'].iloc[i]:\n",
    "        count += 1\n",
    "print(count/150 * 100)"
   ]
  }
 ],
 "metadata": {
  "kernelspec": {
   "display_name": "Python 3 (ipykernel)",
   "language": "python",
   "name": "python3"
  },
  "language_info": {
   "codemirror_mode": {
    "name": "ipython",
    "version": 3
   },
   "file_extension": ".py",
   "mimetype": "text/x-python",
   "name": "python",
   "nbconvert_exporter": "python",
   "pygments_lexer": "ipython3",
   "version": "3.9.10"
  }
 },
 "nbformat": 4,
 "nbformat_minor": 5
}
